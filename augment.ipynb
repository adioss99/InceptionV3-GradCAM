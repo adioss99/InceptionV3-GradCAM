{
 "cells": [
  {
   "cell_type": "code",
   "execution_count": null,
   "metadata": {},
   "outputs": [],
   "source": [
    "import os\n",
    "import numpy as np\n",
    "from tensorflow.keras.preprocessing.image import ImageDataGenerator, load_img, img_to_array, array_to_img"
   ]
  },
  {
   "cell_type": "code",
   "execution_count": null,
   "metadata": {},
   "outputs": [],
   "source": [
    "\n",
    "\n",
    "# Define the directory paths\n",
    "original_dataset_dir = './dataset'\n",
    "augmented_dataset_dir = './augmented_dataset'\n",
    "\n",
    "# Create directories if they don't exist\n",
    "if not os.path.exists(augmented_dataset_dir):\n",
    "    os.makedirs(augmented_dataset_dir)\n",
    "\n",
    "# Image target size for InceptionV3\n",
    "target_size = (299, 299)\n",
    "\n",
    "# Loop through each class directory\n",
    "for class_name in os.listdir(original_dataset_dir):\n",
    "    class_dir = os.path.join(original_dataset_dir, class_name)\n",
    "    if os.path.isdir(class_dir):\n",
    "        augmented_class_dir = os.path.join(augmented_dataset_dir, class_name)\n",
    "        os.makedirs(augmented_class_dir, exist_ok=True)\n",
    "        \n",
    "        # Loop through each image in the class directory\n",
    "        for i, filename in enumerate(os.listdir(class_dir)):\n",
    "            if filename.endswith('.jpg') or filename.endswith('.JPG'):\n",
    "                # Load the image\n",
    "                img_path = os.path.join(class_dir, filename)\n",
    "                img = load_img(img_path, target_size=target_size)\n",
    "                img_array = img_to_array(img)\n",
    "                img_array = np.expand_dims(img_array, axis=0)\n",
    "\n",
    "                datagen = ImageDataGenerator(\n",
    "                                rotation_range=40,\n",
    "                                shear_range=0.2,\n",
    "                                zoom_range=0.2,\n",
    "                                width_shift_range = 0.1,\n",
    "                                height_shift_range = 0.1,\n",
    "                                horizontal_flip=True,\n",
    "                                fill_mode='nearest'\n",
    "                            )\n",
    "                \n",
    "                # Apply the augmentation and save the result\n",
    "                aug_iter = datagen.flow(img_array, batch_size=32)\n",
    "                aug_img = next(aug_iter)[0].astype('uint8')\n",
    "\n",
    "                # Save the augmented image\n",
    "                x = filename.split('.')\n",
    "                aug_img = array_to_img(aug_img)\n",
    "                aug_img.save(os.path.join(augmented_class_dir, f'{x[0]}_{i}_aug.{x[1]}'))\n",
    "\n",
    "                # Save the original image as well\n",
    "                original_img = array_to_img(img_array[0].astype('uint8'))\n",
    "                original_img.save(os.path.join(augmented_class_dir, f'{x[0]}_{i}_ori.{x[1]}'))\n"
   ]
  },
  {
   "cell_type": "code",
   "execution_count": null,
   "metadata": {},
   "outputs": [],
   "source": [
    "import tensorflow as tf \n",
    "\n",
    "print('Original Dataset')\n",
    "dataset = tf.keras.preprocessing.image_dataset_from_directory(\n",
    "    original_dataset_dir,\n",
    ")\n",
    "print('Augmented Dataset')\n",
    "dataset = tf.keras.preprocessing.image_dataset_from_directory(\n",
    "    augmented_dataset_dir,\n",
    ")"
   ]
  },
  {
   "cell_type": "code",
   "execution_count": null,
   "metadata": {},
   "outputs": [],
   "source": [
    "from collections import Counter\n",
    "\n",
    "def class_distribution(dir):\n",
    "    pass\n",
    "    class_dirs = [d for d in os.listdir(dir) if os.path.isdir(os.path.join(dir, d))]\n",
    "    class_counts = Counter()\n",
    "\n",
    "    for class_dir in class_dirs:\n",
    "        class_path = os.path.join(dir, class_dir)\n",
    "        class_counts[class_dir] = len([name for name in os.listdir(class_path) if os.path.isfile(os.path.join(class_path, name))])\n",
    "        \n",
    "    total = 0 \n",
    "    for class_name, count in class_counts.items():\n",
    "        total += count\n",
    "        print(f'Class {class_name}: {count} images')\n",
    "\n",
    "    print(total)\n",
    "    import matplotlib.pyplot as plt\n",
    "\n",
    "    plt.figure(figsize=(5,2))\n",
    "    plt.bar(class_counts.keys(), class_counts.values())\n",
    "    plt.xlabel('Class')\n",
    "    plt.ylabel('Number of images')\n",
    "    plt.title('Class Distribution')\n",
    "    plt.xticks(rotation=10)\n",
    "    plt.show()\n"
   ]
  },
  {
   "cell_type": "code",
   "execution_count": null,
   "metadata": {},
   "outputs": [],
   "source": [
    "class_distribution(augmented_dataset_dir)"
   ]
  },
  {
   "cell_type": "code",
   "execution_count": null,
   "metadata": {},
   "outputs": [],
   "source": [
    "class_distribution(original_dataset_dir)"
   ]
  }
 ],
 "metadata": {
  "kernelspec": {
   "display_name": "py310",
   "language": "python",
   "name": "python3"
  },
  "language_info": {
   "codemirror_mode": {
    "name": "ipython",
    "version": 3
   },
   "file_extension": ".py",
   "mimetype": "text/x-python",
   "name": "python",
   "nbconvert_exporter": "python",
   "pygments_lexer": "ipython3",
   "version": "3.10.13"
  }
 },
 "nbformat": 4,
 "nbformat_minor": 2
}
